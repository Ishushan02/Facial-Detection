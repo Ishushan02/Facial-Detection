{
 "cells": [
  {
   "cell_type": "code",
   "execution_count": 1,
   "metadata": {},
   "outputs": [],
   "source": [
    "import cv2\n",
    "#importing the OpenCV Function"
   ]
  },
  {
   "cell_type": "markdown",
   "metadata": {},
   "source": [
    "Reading the Image"
   ]
  },
  {
   "cell_type": "markdown",
   "metadata": {},
   "source": [
    "The imread function converts the image in to N-Dimensional array,\n",
    " if it is color image it converts them in to (0-255 values) in (b,g,r) format and results in 3_Dimensioonal Array\n",
    " and if it is black_n_white image it converts them in to (0-255 values) in (0, 1)(black or white) format and results in 2_Dimensioonal Array"
   ]
  },
  {
   "cell_type": "code",
   "execution_count": 2,
   "metadata": {},
   "outputs": [],
   "source": [
    "color_image = cv2.imread(\"image.jpg\", 1)\n",
    "#when Attribute is 1 it shows the color Image\n",
    "black_n_white_image = cv2.imread(\"image.jpg\", 0)\n",
    "#when Attribute is 1 it shows the color Image"
   ]
  },
  {
   "cell_type": "markdown",
   "metadata": {},
   "source": [
    "Showing the n_dimensional array"
   ]
  },
  {
   "cell_type": "code",
   "execution_count": 5,
   "metadata": {},
   "outputs": [
    {
     "name": "stdout",
     "output_type": "stream",
     "text": [
      "<class 'numpy.ndarray'>\n",
      "<class 'numpy.ndarray'>\n"
     ]
    }
   ],
   "source": [
    "print(type(color_image))\n",
    "print(type(black_n_white_image))"
   ]
  },
  {
   "cell_type": "markdown",
   "metadata": {},
   "source": [
    "Printing the shape of image"
   ]
  },
  {
   "cell_type": "code",
   "execution_count": 8,
   "metadata": {},
   "outputs": [
    {
     "name": "stdout",
     "output_type": "stream",
     "text": [
      "(275, 183, 3)\n",
      "(275, 183)\n"
     ]
    }
   ],
   "source": [
    "print(color_image.shape)\n",
    "#printing the shape of color image (3_Dimensional array)\n",
    "print(black_n_white_image.shape)\n",
    "#printint the shape of black and White image (2_Dimensional array)"
   ]
  },
  {
   "cell_type": "markdown",
   "metadata": {},
   "source": [
    "Printing the arrays"
   ]
  },
  {
   "cell_type": "code",
   "execution_count": 10,
   "metadata": {},
   "outputs": [
    {
     "name": "stdout",
     "output_type": "stream",
     "text": [
      "[[[178 161  58]\n",
      "  [178 161  58]\n",
      "  [178 161  58]\n",
      "  ...\n",
      "  [183 165  58]\n",
      "  [183 165  58]\n",
      "  [183 164  59]]\n",
      "\n",
      " [[179 162  59]\n",
      "  [179 162  59]\n",
      "  [179 162  59]\n",
      "  ...\n",
      "  [183 165  58]\n",
      "  [184 165  60]\n",
      "  [184 165  60]]\n",
      "\n",
      " [[179 162  59]\n",
      "  [179 162  59]\n",
      "  [179 162  59]\n",
      "  ...\n",
      "  [182 166  60]\n",
      "  [182 166  60]\n",
      "  [183 166  63]]\n",
      "\n",
      " ...\n",
      "\n",
      " [[  7   9   9]\n",
      "  [  7   9   9]\n",
      "  [  7   9   9]\n",
      "  ...\n",
      "  [  0   0   0]\n",
      "  [  0   0   0]\n",
      "  [  0   0   0]]\n",
      "\n",
      " [[  7   9   9]\n",
      "  [  7   9   9]\n",
      "  [  7   9   9]\n",
      "  ...\n",
      "  [  0   0   0]\n",
      "  [  0   0   0]\n",
      "  [  0   0   0]]\n",
      "\n",
      " [[  7   9   9]\n",
      "  [  7   9   9]\n",
      "  [  7   9   9]\n",
      "  ...\n",
      "  [  0   0   0]\n",
      "  [  0   0   0]\n",
      "  [  0   0   0]]]\n"
     ]
    }
   ],
   "source": [
    "print(color_image)\n",
    "#the array of color Image (3_Dimensional)"
   ]
  },
  {
   "cell_type": "code",
   "execution_count": 11,
   "metadata": {},
   "outputs": [
    {
     "name": "stdout",
     "output_type": "stream",
     "text": [
      "[[132 132 132 ... 135 135 135]\n",
      " [133 133 133 ... 135 136 136]\n",
      " [133 133 133 ... 136 136 137]\n",
      " ...\n",
      " [  9   9   9 ...   0   0   0]\n",
      " [  9   9   9 ...   0   0   0]\n",
      " [  9   9   9 ...   0   0   0]]\n"
     ]
    }
   ],
   "source": [
    "print(black_n_white_image)\n",
    "#the array of Black and White Image (2-dimensional)"
   ]
  },
  {
   "cell_type": "markdown",
   "metadata": {},
   "source": [
    "Showing the Color Image"
   ]
  },
  {
   "cell_type": "code",
   "execution_count": 3,
   "metadata": {},
   "outputs": [],
   "source": [
    "cv2.imshow(\"color Image\", color_image)\n",
    "# the first attribute will show on the poped-up new tab as the title and second is the image\n",
    "\n",
    "cv2.waitKey(0)\n",
    "#if the wait key Attribute is 0, on pressing any key on keyboard the screen closes.\n",
    "\n",
    "cv2.destroyAllWindows()\n",
    "#distroys all the open up window"
   ]
  },
  {
   "cell_type": "markdown",
   "metadata": {},
   "source": [
    "Showing the Black and White Image"
   ]
  },
  {
   "cell_type": "code",
   "execution_count": 4,
   "metadata": {},
   "outputs": [],
   "source": [
    "cv2.imshow(\"Black and White\", black_n_white_image)\n",
    "cv2.waitKey(2000)\n",
    "#this opens up the image window for 2000 milli-seconds\n",
    "cv2.destroyAllWindows()"
   ]
  },
  {
   "cell_type": "markdown",
   "metadata": {},
   "source": [
    "Resizing the Image"
   ]
  },
  {
   "cell_type": "code",
   "execution_count": 12,
   "metadata": {},
   "outputs": [],
   "source": [
    "resized_image = cv2.resize(color_image, (200, 300))\n",
    "#resizing the color image in to (200 * 300)\n",
    "cv2.imshow(\"Resized Image\", resized_image)\n",
    "cv2.waitKey(2000)\n",
    "cv2.destroyAllWindows()"
   ]
  },
  {
   "cell_type": "markdown",
   "metadata": {},
   "source": [
    "Resizing the image to half its original size or double of its size"
   ]
  },
  {
   "cell_type": "code",
   "execution_count": 20,
   "metadata": {},
   "outputs": [],
   "source": [
    "double_resize_image = cv2.resize(black_n_white_image, (int(black_n_white_image.shape[1]*2), int(black_n_white_image.shape[0]*2)))\n",
    "cv2.imshow(\"Double the size\", double_resize_image)\n",
    "cv2.waitKey(0)\n",
    "cv2.destroyAllWindows()\n",
    "# making the Size of of the image to the double of its original Value"
   ]
  },
  {
   "cell_type": "code",
   "execution_count": 21,
   "metadata": {},
   "outputs": [],
   "source": [
    "half_resize_image = cv2.resize(black_n_white_image, (int(black_n_white_image.shape[1]/2), int(black_n_white_image.shape[0]/2)))\n",
    "cv2.imshow(\"Half the size\", half_resize_image)\n",
    "cv2.waitKey(0)\n",
    "cv2.destroyAllWindows()\n",
    "# making the Size of of the image to the Half of its original Value"
   ]
  },
  {
   "cell_type": "markdown",
   "metadata": {},
   "source": [
    "Recognising the Face"
   ]
  },
  {
   "cell_type": "markdown",
   "metadata": {},
   "source": [
    "\n",
    "=> Create a Casscade Classifier which has the Image properties \n",
    "=> Read the Image using imread converting them to n-dimensional array\n",
    "=> Search for the rows and columns of the face numpy n-dim array(for face rectange coordinates)\n",
    "=> Display the image with rectangular Face\n"
   ]
  },
  {
   "cell_type": "code",
   "execution_count": 23,
   "metadata": {},
   "outputs": [],
   "source": [
    "face_cascade = cv2.CascadeClassifier(\"haarcascade_frontalface_default.xml\")\n",
    "#defining the Haarcascade classifier which contains all the attributes of faces "
   ]
  },
  {
   "cell_type": "code",
   "execution_count": 27,
   "metadata": {},
   "outputs": [],
   "source": [
    "image = color_image"
   ]
  },
  {
   "cell_type": "code",
   "execution_count": 28,
   "metadata": {},
   "outputs": [],
   "source": [
    "faces = face_cascade.detectMultiScale(image, scaleFactor = 1.03, minNeighbors = 3)\n",
    "#making a face Cascade object to detect the the coordinates of rectangle with precision of 1.03 and minimum neighbors as 3\n",
    "#decreases the face by 5% every time of the image and smaller the image more the accuracy"
   ]
  },
  {
   "cell_type": "code",
   "execution_count": 29,
   "metadata": {},
   "outputs": [
    {
     "name": "stdout",
     "output_type": "stream",
     "text": [
      "[[41 78 95 95]]\n"
     ]
    }
   ],
   "source": [
    "print(faces)\n",
    "#We got the coordinates of the rectangle of the Face inscribing it"
   ]
  },
  {
   "cell_type": "markdown",
   "metadata": {},
   "source": [
    "Plotting the rectangle coordinates around the Face"
   ]
  },
  {
   "cell_type": "code",
   "execution_count": 30,
   "metadata": {},
   "outputs": [],
   "source": [
    "#We have the coordinates as the initial (x,y) coordinates and the diagonally opposite coordinates (x+w, y+h)\n",
    "for x, y, w, h in faces:\n",
    "    image = cv2.rectangle(image, (x,y), (x + w, y + h), (0, 255, 0), 1)\n",
    "cv2.imshow(\"Recognized_image\", image)\n",
    "cv2.waitKey(0)\n",
    "cv2.destroyAllWindows()"
   ]
  },
  {
   "cell_type": "markdown",
   "metadata": {},
   "source": [
    "Testing this for different set of images"
   ]
  },
  {
   "cell_type": "code",
   "execution_count": 33,
   "metadata": {},
   "outputs": [
    {
     "name": "stdout",
     "output_type": "stream",
     "text": [
      "[[239 220  50  50]\n",
      " [377 214  38  38]\n",
      " [108 224  40  40]\n",
      " [ 65  95  46  46]\n",
      " [329 105  46  46]\n",
      " [410  57  33  33]\n",
      " [  5  41  39  39]\n",
      " [212  26  33  33]\n",
      " [189 148  41  41]]\n"
     ]
    }
   ],
   "source": [
    "face_cascade = cv2.CascadeClassifier(\"haarcascade_frontalface_default.xml\")\n",
    "image = cv2.imread(\"g_image.jpg\", 1)\n",
    "faces = face_cascade.detectMultiScale(image, scaleFactor = 1.03, minNeighbors = 4)\n",
    "print(faces)\n",
    "for x, y, w, h in faces:\n",
    "    image = cv2.rectangle(image, (x,y), (x + w, y + h), (0, 255, 0), 1)\n",
    "cv2.imshow(\"Recognized_image\", image)\n",
    "cv2.waitKey(0)\n",
    "cv2.destroyAllWindows()"
   ]
  },
  {
   "cell_type": "code",
   "execution_count": 36,
   "metadata": {},
   "outputs": [
    {
     "name": "stdout",
     "output_type": "stream",
     "text": [
      "[[ 58 282  32  32]\n",
      " [138 282  28  28]\n",
      " [202 286  32  32]\n",
      " [275 285  31  31]\n",
      " [ 68 209  29  29]\n",
      " [130 212  34  34]\n",
      " [272 213  32  32]\n",
      " [214 212  27  27]\n",
      " [118 245  52  52]\n",
      " [203  71  29  29]\n",
      " [ 67 141  29  29]\n",
      " [203 142  31  31]\n",
      " [267  72  31  31]\n",
      " [271 141  32  32]\n",
      " [137 144  32  32]\n",
      " [ 65  70  33  33]\n",
      " [132  72  31  31]]\n"
     ]
    }
   ],
   "source": [
    "face_cascade = cv2.CascadeClassifier(\"haarcascade_frontalface_default.xml\")\n",
    "image = cv2.imread(\"group_image.png\", 1)\n",
    "faces = face_cascade.detectMultiScale(image, scaleFactor = 1.02, minNeighbors = 4)\n",
    "print(faces)\n",
    "for x, y, w, h in faces:\n",
    "    image = cv2.rectangle(image, (x,y), (x + w, y + h), (0, 255, 0), 1)\n",
    "cv2.imshow(\"Recognized_image\", image)\n",
    "cv2.waitKey(0)\n",
    "cv2.destroyAllWindows()"
   ]
  },
  {
   "cell_type": "code",
   "execution_count": 37,
   "metadata": {},
   "outputs": [
    {
     "name": "stdout",
     "output_type": "stream",
     "text": [
      "()\n"
     ]
    }
   ],
   "source": []
  },
  {
   "cell_type": "code",
   "execution_count": null,
   "metadata": {},
   "outputs": [],
   "source": []
  }
 ],
 "metadata": {
  "kernelspec": {
   "display_name": "Python 3",
   "language": "python",
   "name": "python3"
  },
  "language_info": {
   "codemirror_mode": {
    "name": "ipython",
    "version": 3
   },
   "file_extension": ".py",
   "mimetype": "text/x-python",
   "name": "python",
   "nbconvert_exporter": "python",
   "pygments_lexer": "ipython3",
   "version": "3.7.3"
  }
 },
 "nbformat": 4,
 "nbformat_minor": 2
}
